{
  "nbformat": 4,
  "nbformat_minor": 0,
  "metadata": {
    "colab": {
      "name": "preprocessing3.ipynb",
      "provenance": []
    },
    "kernelspec": {
      "name": "python3",
      "display_name": "Python 3"
    },
    "language_info": {
      "name": "python"
    }
  },
  "cells": [
    {
      "cell_type": "code",
      "metadata": {
        "id": "CE3sCy64d0D7"
      },
      "source": [
        "import numpy as np\n",
        "import matplotlib.pyplot as plt\n",
        "import pandas as pd"
      ],
      "execution_count": 1,
      "outputs": []
    },
    {
      "cell_type": "code",
      "metadata": {
        "id": "jHhr2p4seE6F"
      },
      "source": [
        "dataset = pd.read_csv('DATABARANG.csv')\n",
        "x = dataset.iloc[:, :-1].values\n",
        "y = dataset.iloc[:, -1].values"
      ],
      "execution_count": 3,
      "outputs": []
    },
    {
      "cell_type": "code",
      "metadata": {
        "colab": {
          "base_uri": "https://localhost:8080/"
        },
        "id": "WdBRp3gQeL9d",
        "outputId": "023ce70e-d883-4f8c-8b3e-76bb28ce7473"
      },
      "source": [
        "print(x)"
      ],
      "execution_count": 4,
      "outputs": [
        {
          "output_type": "stream",
          "text": [
            "[['Mouse' 30 12000]\n",
            " ['Keyboard' 70 20000]\n",
            " ['Monitor ' 75 1500000]\n",
            " ['VGA' 82 2400000]\n",
            " ['Prosesor AMD' 35 2730000]\n",
            " ['Prosesor Intel' 67 3120000]\n",
            " ['PSU Cooler Master' 93 1000000]\n",
            " ['RAM ' 100 845000]]\n"
          ],
          "name": "stdout"
        }
      ]
    },
    {
      "cell_type": "code",
      "metadata": {
        "colab": {
          "base_uri": "https://localhost:8080/"
        },
        "id": "vyVdEqCkePmV",
        "outputId": "26335ec0-6763-4d87-b0c6-17539b8cdbc0"
      },
      "source": [
        "print(y)"
      ],
      "execution_count": 5,
      "outputs": [
        {
          "output_type": "stream",
          "text": [
            "['No' 'Yes' 'Yes' 'Yes' 'No' 'No' 'Yes' 'No']\n"
          ],
          "name": "stdout"
        }
      ]
    },
    {
      "cell_type": "code",
      "metadata": {
        "id": "95YaKqBbeTzd"
      },
      "source": [
        "from sklearn.impute import SimpleImputer\n",
        "impute = SimpleImputer(missing_values=np.nan, strategy='mean')\n",
        "impute.fit(x[:, 1:3])\n",
        "x[:, 1:3] = impute.transform(x[:, 1:3])"
      ],
      "execution_count": 6,
      "outputs": []
    },
    {
      "cell_type": "code",
      "metadata": {
        "colab": {
          "base_uri": "https://localhost:8080/"
        },
        "id": "rj3MGZONeWqF",
        "outputId": "f9eeefe1-dc19-430b-bb1f-6a1afd9a47c1"
      },
      "source": [
        "print(x)"
      ],
      "execution_count": 7,
      "outputs": [
        {
          "output_type": "stream",
          "text": [
            "[['Mouse' 30.0 12000.0]\n",
            " ['Keyboard' 70.0 20000.0]\n",
            " ['Monitor ' 75.0 1500000.0]\n",
            " ['VGA' 82.0 2400000.0]\n",
            " ['Prosesor AMD' 35.0 2730000.0]\n",
            " ['Prosesor Intel' 67.0 3120000.0]\n",
            " ['PSU Cooler Master' 93.0 1000000.0]\n",
            " ['RAM ' 100.0 845000.0]]\n"
          ],
          "name": "stdout"
        }
      ]
    },
    {
      "cell_type": "code",
      "metadata": {
        "id": "aajMcA7teaKG"
      },
      "source": [
        "from sklearn.compose import ColumnTransformer\n",
        "from sklearn.preprocessing import OneHotEncoder\n",
        "ct = ColumnTransformer(transformers=[('encoder', OneHotEncoder(), [0])], remainder='passthrough')\n",
        "x = np.array(ct.fit_transform(x))"
      ],
      "execution_count": 8,
      "outputs": []
    },
    {
      "cell_type": "code",
      "metadata": {
        "colab": {
          "base_uri": "https://localhost:8080/"
        },
        "id": "4XSJgtuDecht",
        "outputId": "082bd9b2-62cd-4954-baea-c327f657e33b"
      },
      "source": [
        "print(x)"
      ],
      "execution_count": 9,
      "outputs": [
        {
          "output_type": "stream",
          "text": [
            "[[0.0 0.0 1.0 0.0 0.0 0.0 0.0 0.0 30.0 12000.0]\n",
            " [1.0 0.0 0.0 0.0 0.0 0.0 0.0 0.0 70.0 20000.0]\n",
            " [0.0 1.0 0.0 0.0 0.0 0.0 0.0 0.0 75.0 1500000.0]\n",
            " [0.0 0.0 0.0 0.0 0.0 0.0 0.0 1.0 82.0 2400000.0]\n",
            " [0.0 0.0 0.0 0.0 1.0 0.0 0.0 0.0 35.0 2730000.0]\n",
            " [0.0 0.0 0.0 0.0 0.0 1.0 0.0 0.0 67.0 3120000.0]\n",
            " [0.0 0.0 0.0 1.0 0.0 0.0 0.0 0.0 93.0 1000000.0]\n",
            " [0.0 0.0 0.0 0.0 0.0 0.0 1.0 0.0 100.0 845000.0]]\n"
          ],
          "name": "stdout"
        }
      ]
    },
    {
      "cell_type": "code",
      "metadata": {
        "id": "Qj2oF4Cdegdd"
      },
      "source": [
        "from sklearn.preprocessing import LabelEncoder\n",
        "le = LabelEncoder()\n",
        "y = le.fit_transform(y)"
      ],
      "execution_count": 10,
      "outputs": []
    },
    {
      "cell_type": "code",
      "metadata": {
        "colab": {
          "base_uri": "https://localhost:8080/"
        },
        "id": "a-xVvyBnei0e",
        "outputId": "37e16b19-c9fb-4cfa-8423-8e6fef442cda"
      },
      "source": [
        "print(y)"
      ],
      "execution_count": 11,
      "outputs": [
        {
          "output_type": "stream",
          "text": [
            "[0 1 1 1 0 0 1 0]\n"
          ],
          "name": "stdout"
        }
      ]
    },
    {
      "cell_type": "code",
      "metadata": {
        "id": "gIfhwWW1el0e"
      },
      "source": [
        "from sklearn.model_selection import train_test_split\n",
        "x_train, x_test, y_train, y_test = train_test_split(x, y, test_size=0.2, random_state=1)"
      ],
      "execution_count": 12,
      "outputs": []
    },
    {
      "cell_type": "code",
      "metadata": {
        "colab": {
          "base_uri": "https://localhost:8080/"
        },
        "id": "iEufebeVeoFH",
        "outputId": "d67f4f20-e1b3-413b-d25c-5132aeb45452"
      },
      "source": [
        "print(x_train)"
      ],
      "execution_count": 13,
      "outputs": [
        {
          "output_type": "stream",
          "text": [
            "[[1.0 0.0 0.0 0.0 0.0 0.0 0.0 0.0 70.0 20000.0]\n",
            " [0.0 0.0 0.0 1.0 0.0 0.0 0.0 0.0 93.0 1000000.0]\n",
            " [0.0 0.0 1.0 0.0 0.0 0.0 0.0 0.0 30.0 12000.0]\n",
            " [0.0 0.0 0.0 0.0 1.0 0.0 0.0 0.0 35.0 2730000.0]\n",
            " [0.0 0.0 0.0 0.0 0.0 0.0 0.0 1.0 82.0 2400000.0]\n",
            " [0.0 0.0 0.0 0.0 0.0 1.0 0.0 0.0 67.0 3120000.0]]\n"
          ],
          "name": "stdout"
        }
      ]
    },
    {
      "cell_type": "code",
      "metadata": {
        "colab": {
          "base_uri": "https://localhost:8080/"
        },
        "id": "wg0jfufgeqj2",
        "outputId": "be3084b1-66f1-47d5-9810-e0e1ced39db1"
      },
      "source": [
        "print(x_test)"
      ],
      "execution_count": 14,
      "outputs": [
        {
          "output_type": "stream",
          "text": [
            "[[0.0 0.0 0.0 0.0 0.0 0.0 1.0 0.0 100.0 845000.0]\n",
            " [0.0 1.0 0.0 0.0 0.0 0.0 0.0 0.0 75.0 1500000.0]]\n"
          ],
          "name": "stdout"
        }
      ]
    },
    {
      "cell_type": "code",
      "metadata": {
        "colab": {
          "base_uri": "https://localhost:8080/"
        },
        "id": "XDrsvmvbetPP",
        "outputId": "46e3ff91-a515-421a-e3c0-1b68b65b2339"
      },
      "source": [
        "print(y_train)"
      ],
      "execution_count": 15,
      "outputs": [
        {
          "output_type": "stream",
          "text": [
            "[1 1 0 0 1 0]\n"
          ],
          "name": "stdout"
        }
      ]
    },
    {
      "cell_type": "code",
      "metadata": {
        "colab": {
          "base_uri": "https://localhost:8080/"
        },
        "id": "6L-yZio2evgu",
        "outputId": "c45009ba-8498-4da1-b929-bc6f147499ee"
      },
      "source": [
        "print(y_test)"
      ],
      "execution_count": 16,
      "outputs": [
        {
          "output_type": "stream",
          "text": [
            "[0 1]\n"
          ],
          "name": "stdout"
        }
      ]
    },
    {
      "cell_type": "code",
      "metadata": {
        "id": "wZAsO2IIeyVe"
      },
      "source": [
        "from sklearn.preprocessing import StandardScaler\n",
        "sc = StandardScaler()\n",
        "x_train[:, 3:] = sc.fit_transform(x_train[:, 3:])\n",
        "x_test[:, 3:] = sc.transform(x_test[:, 3:])"
      ],
      "execution_count": 17,
      "outputs": []
    },
    {
      "cell_type": "code",
      "metadata": {
        "colab": {
          "base_uri": "https://localhost:8080/"
        },
        "id": "qxo9OCUye0t2",
        "outputId": "c96431a7-18b9-42e0-fe18-a4f880783a35"
      },
      "source": [
        "print(x_train)"
      ],
      "execution_count": 18,
      "outputs": [
        {
          "output_type": "stream",
          "text": [
            "[[1.0 0.0 0.0 -0.44721359549995787 -0.44721359549995787\n",
            "  -0.44721359549995787 0.0 -0.4472135954999579 0.3103823549641963\n",
            "  -1.2079175403521945]\n",
            " [0.0 0.0 0.0 2.2360679774997894 -0.44721359549995787\n",
            "  -0.44721359549995787 0.0 -0.4472135954999579 1.306493168570222\n",
            "  -0.4326986866880487]\n",
            " [0.0 0.0 1.0 -0.44721359549995787 -0.44721359549995787\n",
            "  -0.44721359549995787 0.0 -0.4472135954999579 -1.4219842773941092\n",
            "  -1.214245857524963]\n",
            " [0.0 0.0 0.0 -0.44721359549995787 2.2360679774997894\n",
            "  -0.44721359549995787 0.0 -0.4472135954999579 -1.205438448349321\n",
            "  0.9357999019231473]\n",
            " [0.0 0.0 0.0 -0.44721359549995787 -0.44721359549995787\n",
            "  -0.44721359549995787 0.0 2.23606797749979 0.8300923446716879\n",
            "  0.6747568185464452]\n",
            " [0.0 0.0 0.0 -0.44721359549995787 -0.44721359549995787\n",
            "  2.2360679774997894 0.0 -0.4472135954999579 0.18045485753732338\n",
            "  1.2443053640956134]]\n"
          ],
          "name": "stdout"
        }
      ]
    },
    {
      "cell_type": "code",
      "metadata": {
        "colab": {
          "base_uri": "https://localhost:8080/"
        },
        "id": "77tEgqKne3fm",
        "outputId": "9114d6d3-25f2-427b-d566-c6770c7ebcdc"
      },
      "source": [
        "print(x_test)"
      ],
      "execution_count": 19,
      "outputs": [
        {
          "output_type": "stream",
          "text": [
            "[[0.0 0.0 0.0 -0.44721359549995787 -0.44721359549995787\n",
            "  -0.44721359549995787 1.0 -0.4472135954999579 1.6096573292329255\n",
            "  -0.5553098319104391]\n",
            " [0.0 1.0 0.0 -0.44721359549995787 -0.44721359549995787\n",
            "  -0.44721359549995787 0.0 -0.4472135954999579 0.5269281840089844\n",
            "  -0.03717886339001515]]\n"
          ],
          "name": "stdout"
        }
      ]
    }
  ]
}